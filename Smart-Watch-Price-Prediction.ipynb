{
 "cells": [
  {
   "cell_type": "code",
   "execution_count": 61,
   "id": "c3871ddb",
   "metadata": {},
   "outputs": [],
   "source": [
    "import pandas as pd\n",
    "import numpy as np\n",
    "import seaborn as sns\n",
    "import matplotlib.pyplot as plt\n",
    "sns.set_theme(color_codes=True)"
   ]
  },
  {
   "cell_type": "code",
   "execution_count": 62,
   "id": "6289fe59",
   "metadata": {},
   "outputs": [
    {
     "data": {
      "text/html": [
       "<div>\n",
       "<style scoped>\n",
       "    .dataframe tbody tr th:only-of-type {\n",
       "        vertical-align: middle;\n",
       "    }\n",
       "\n",
       "    .dataframe tbody tr th {\n",
       "        vertical-align: top;\n",
       "    }\n",
       "\n",
       "    .dataframe thead th {\n",
       "        text-align: right;\n",
       "    }\n",
       "</style>\n",
       "<table border=\"1\" class=\"dataframe\">\n",
       "  <thead>\n",
       "    <tr style=\"text-align: right;\">\n",
       "      <th></th>\n",
       "      <th>Brand</th>\n",
       "      <th>Model</th>\n",
       "      <th>Operating System</th>\n",
       "      <th>Connectivity</th>\n",
       "      <th>Display Type</th>\n",
       "      <th>Display Size (inches)</th>\n",
       "      <th>Resolution</th>\n",
       "      <th>Water Resistance (meters)</th>\n",
       "      <th>Battery Life (days)</th>\n",
       "      <th>Heart Rate Monitor</th>\n",
       "      <th>GPS</th>\n",
       "      <th>NFC</th>\n",
       "      <th>Price (USD)</th>\n",
       "    </tr>\n",
       "  </thead>\n",
       "  <tbody>\n",
       "    <tr>\n",
       "      <th>0</th>\n",
       "      <td>Apple</td>\n",
       "      <td>Watch Series 7</td>\n",
       "      <td>watchOS</td>\n",
       "      <td>Bluetooth, Wi-Fi, Cellular</td>\n",
       "      <td>Retina</td>\n",
       "      <td>1.90</td>\n",
       "      <td>396 x 484</td>\n",
       "      <td>50</td>\n",
       "      <td>18</td>\n",
       "      <td>Yes</td>\n",
       "      <td>Yes</td>\n",
       "      <td>Yes</td>\n",
       "      <td>$399</td>\n",
       "    </tr>\n",
       "    <tr>\n",
       "      <th>1</th>\n",
       "      <td>Samsung</td>\n",
       "      <td>Galaxy Watch 4</td>\n",
       "      <td>Wear OS</td>\n",
       "      <td>Bluetooth, Wi-Fi, Cellular</td>\n",
       "      <td>AMOLED</td>\n",
       "      <td>1.40</td>\n",
       "      <td>450 x 450</td>\n",
       "      <td>50</td>\n",
       "      <td>40</td>\n",
       "      <td>Yes</td>\n",
       "      <td>Yes</td>\n",
       "      <td>Yes</td>\n",
       "      <td>$249</td>\n",
       "    </tr>\n",
       "    <tr>\n",
       "      <th>2</th>\n",
       "      <td>Garmin</td>\n",
       "      <td>Venu 2</td>\n",
       "      <td>Garmin OS</td>\n",
       "      <td>Bluetooth, Wi-Fi</td>\n",
       "      <td>AMOLED</td>\n",
       "      <td>1.30</td>\n",
       "      <td>416 x 416</td>\n",
       "      <td>50</td>\n",
       "      <td>11</td>\n",
       "      <td>Yes</td>\n",
       "      <td>Yes</td>\n",
       "      <td>No</td>\n",
       "      <td>$399</td>\n",
       "    </tr>\n",
       "    <tr>\n",
       "      <th>3</th>\n",
       "      <td>Fitbit</td>\n",
       "      <td>Versa 3</td>\n",
       "      <td>Fitbit OS</td>\n",
       "      <td>Bluetooth, Wi-Fi</td>\n",
       "      <td>AMOLED</td>\n",
       "      <td>1.58</td>\n",
       "      <td>336 x 336</td>\n",
       "      <td>50</td>\n",
       "      <td>6</td>\n",
       "      <td>Yes</td>\n",
       "      <td>Yes</td>\n",
       "      <td>Yes</td>\n",
       "      <td>$229</td>\n",
       "    </tr>\n",
       "    <tr>\n",
       "      <th>4</th>\n",
       "      <td>Fossil</td>\n",
       "      <td>Gen 6</td>\n",
       "      <td>Wear OS</td>\n",
       "      <td>Bluetooth, Wi-Fi</td>\n",
       "      <td>AMOLED</td>\n",
       "      <td>1.28</td>\n",
       "      <td>416 x 416</td>\n",
       "      <td>30</td>\n",
       "      <td>24</td>\n",
       "      <td>Yes</td>\n",
       "      <td>Yes</td>\n",
       "      <td>Yes</td>\n",
       "      <td>$299</td>\n",
       "    </tr>\n",
       "  </tbody>\n",
       "</table>\n",
       "</div>"
      ],
      "text/plain": [
       "     Brand           Model Operating System                Connectivity  \\\n",
       "0    Apple  Watch Series 7          watchOS  Bluetooth, Wi-Fi, Cellular   \n",
       "1  Samsung  Galaxy Watch 4          Wear OS  Bluetooth, Wi-Fi, Cellular   \n",
       "2   Garmin          Venu 2        Garmin OS            Bluetooth, Wi-Fi   \n",
       "3   Fitbit         Versa 3        Fitbit OS            Bluetooth, Wi-Fi   \n",
       "4   Fossil           Gen 6          Wear OS            Bluetooth, Wi-Fi   \n",
       "\n",
       "  Display Type  Display Size (inches) Resolution Water Resistance (meters)  \\\n",
       "0       Retina                   1.90  396 x 484                        50   \n",
       "1       AMOLED                   1.40  450 x 450                        50   \n",
       "2       AMOLED                   1.30  416 x 416                        50   \n",
       "3       AMOLED                   1.58  336 x 336                        50   \n",
       "4       AMOLED                   1.28  416 x 416                        30   \n",
       "\n",
       "  Battery Life (days) Heart Rate Monitor  GPS  NFC Price (USD)  \n",
       "0                  18                Yes  Yes  Yes       $399   \n",
       "1                  40                Yes  Yes  Yes       $249   \n",
       "2                  11                Yes  Yes   No       $399   \n",
       "3                   6                Yes  Yes  Yes       $229   \n",
       "4                  24                Yes  Yes  Yes       $299   "
      ]
     },
     "execution_count": 62,
     "metadata": {},
     "output_type": "execute_result"
    }
   ],
   "source": [
    "df = pd.read_csv(\"Smart watch prices.csv\")\n",
    "df.head()"
   ]
  },
  {
   "cell_type": "code",
   "execution_count": 63,
   "id": "8ffdeb36",
   "metadata": {},
   "outputs": [
    {
     "data": {
      "text/html": [
       "<div>\n",
       "<style scoped>\n",
       "    .dataframe tbody tr th:only-of-type {\n",
       "        vertical-align: middle;\n",
       "    }\n",
       "\n",
       "    .dataframe tbody tr th {\n",
       "        vertical-align: top;\n",
       "    }\n",
       "\n",
       "    .dataframe thead th {\n",
       "        text-align: right;\n",
       "    }\n",
       "</style>\n",
       "<table border=\"1\" class=\"dataframe\">\n",
       "  <thead>\n",
       "    <tr style=\"text-align: right;\">\n",
       "      <th></th>\n",
       "      <th>Display Size (inches)</th>\n",
       "    </tr>\n",
       "  </thead>\n",
       "  <tbody>\n",
       "    <tr>\n",
       "      <th>count</th>\n",
       "      <td>376.000000</td>\n",
       "    </tr>\n",
       "    <tr>\n",
       "      <th>mean</th>\n",
       "      <td>1.363165</td>\n",
       "    </tr>\n",
       "    <tr>\n",
       "      <th>std</th>\n",
       "      <td>0.218986</td>\n",
       "    </tr>\n",
       "    <tr>\n",
       "      <th>min</th>\n",
       "      <td>0.900000</td>\n",
       "    </tr>\n",
       "    <tr>\n",
       "      <th>25%</th>\n",
       "      <td>1.200000</td>\n",
       "    </tr>\n",
       "    <tr>\n",
       "      <th>50%</th>\n",
       "      <td>1.390000</td>\n",
       "    </tr>\n",
       "    <tr>\n",
       "      <th>75%</th>\n",
       "      <td>1.400000</td>\n",
       "    </tr>\n",
       "    <tr>\n",
       "      <th>max</th>\n",
       "      <td>4.010000</td>\n",
       "    </tr>\n",
       "  </tbody>\n",
       "</table>\n",
       "</div>"
      ],
      "text/plain": [
       "       Display Size (inches)\n",
       "count             376.000000\n",
       "mean                1.363165\n",
       "std                 0.218986\n",
       "min                 0.900000\n",
       "25%                 1.200000\n",
       "50%                 1.390000\n",
       "75%                 1.400000\n",
       "max                 4.010000"
      ]
     },
     "execution_count": 63,
     "metadata": {},
     "output_type": "execute_result"
    }
   ],
   "source": [
    "df.describe()"
   ]
  },
  {
   "cell_type": "code",
   "execution_count": 64,
   "id": "9c167cc5",
   "metadata": {},
   "outputs": [
    {
     "data": {
      "text/plain": [
       "Brand                        1\n",
       "Model                        1\n",
       "Operating System             3\n",
       "Connectivity                 1\n",
       "Display Type                 2\n",
       "Display Size (inches)        3\n",
       "Resolution                   4\n",
       "Water Resistance (meters)    1\n",
       "Battery Life (days)          1\n",
       "Heart Rate Monitor           1\n",
       "GPS                          1\n",
       "NFC                          1\n",
       "Price (USD)                  1\n",
       "dtype: int64"
      ]
     },
     "execution_count": 64,
     "metadata": {},
     "output_type": "execute_result"
    }
   ],
   "source": [
    "df.isnull().sum()"
   ]
  },
  {
   "cell_type": "code",
   "execution_count": 65,
   "id": "a5198856",
   "metadata": {},
   "outputs": [
    {
     "data": {
      "text/plain": [
       "21"
      ]
     },
     "execution_count": 65,
     "metadata": {},
     "output_type": "execute_result"
    }
   ],
   "source": [
    "df.isnull().sum().sum()"
   ]
  },
  {
   "cell_type": "code",
   "execution_count": 66,
   "id": "9da48869",
   "metadata": {},
   "outputs": [
    {
     "data": {
      "text/plain": [
       "Brand                         42\n",
       "Model                        137\n",
       "Operating System              35\n",
       "Connectivity                   5\n",
       "Display Type                  27\n",
       "Resolution                    36\n",
       "Water Resistance (meters)      7\n",
       "Battery Life (days)           30\n",
       "Heart Rate Monitor             1\n",
       "GPS                            2\n",
       "NFC                            2\n",
       "Price (USD)                   50\n",
       "dtype: int64"
      ]
     },
     "execution_count": 66,
     "metadata": {},
     "output_type": "execute_result"
    }
   ],
   "source": [
    "#Check Number of Unique Values\n",
    "df.select_dtypes(include=\"object\").nunique()"
   ]
  },
  {
   "cell_type": "code",
   "execution_count": 67,
   "id": "31496be1",
   "metadata": {},
   "outputs": [
    {
     "data": {
      "text/plain": [
       "(379, 13)"
      ]
     },
     "execution_count": 67,
     "metadata": {},
     "output_type": "execute_result"
    }
   ],
   "source": [
    "df.shape"
   ]
  },
  {
   "cell_type": "code",
   "execution_count": 68,
   "id": "5ecfa46d",
   "metadata": {},
   "outputs": [
    {
     "data": {
      "text/plain": [
       "Index(['Brand', 'Model', 'Operating System', 'Connectivity', 'Display Type',\n",
       "       'Display Size (inches)', 'Resolution', 'Water Resistance (meters)',\n",
       "       'Battery Life (days)', 'Heart Rate Monitor', 'GPS', 'NFC',\n",
       "       'Price (USD)'],\n",
       "      dtype='object')"
      ]
     },
     "execution_count": 68,
     "metadata": {},
     "output_type": "execute_result"
    }
   ],
   "source": [
    "df.columns"
   ]
  },
  {
   "cell_type": "code",
   "execution_count": 69,
   "id": "63c68974",
   "metadata": {},
   "outputs": [
    {
     "data": {
      "text/html": [
       "<div>\n",
       "<style scoped>\n",
       "    .dataframe tbody tr th:only-of-type {\n",
       "        vertical-align: middle;\n",
       "    }\n",
       "\n",
       "    .dataframe tbody tr th {\n",
       "        vertical-align: top;\n",
       "    }\n",
       "\n",
       "    .dataframe thead th {\n",
       "        text-align: right;\n",
       "    }\n",
       "</style>\n",
       "<table border=\"1\" class=\"dataframe\">\n",
       "  <thead>\n",
       "    <tr style=\"text-align: right;\">\n",
       "      <th></th>\n",
       "      <th>Brand</th>\n",
       "      <th>Model</th>\n",
       "      <th>Operating System</th>\n",
       "      <th>Connectivity</th>\n",
       "      <th>Display Type</th>\n",
       "      <th>Display Size (inches)</th>\n",
       "      <th>Resolution</th>\n",
       "      <th>Water Resistance (meters)</th>\n",
       "      <th>Battery Life (days)</th>\n",
       "      <th>Heart Rate Monitor</th>\n",
       "      <th>GPS</th>\n",
       "      <th>NFC</th>\n",
       "      <th>Price (USD)</th>\n",
       "    </tr>\n",
       "  </thead>\n",
       "  <tbody>\n",
       "    <tr>\n",
       "      <th>0</th>\n",
       "      <td>Apple</td>\n",
       "      <td>Watch Series 7</td>\n",
       "      <td>watchOS</td>\n",
       "      <td>Bluetooth, Wi-Fi, Cellular</td>\n",
       "      <td>Retina</td>\n",
       "      <td>1.90</td>\n",
       "      <td>396 x 484</td>\n",
       "      <td>50</td>\n",
       "      <td>18</td>\n",
       "      <td>Yes</td>\n",
       "      <td>Yes</td>\n",
       "      <td>Yes</td>\n",
       "      <td>$399</td>\n",
       "    </tr>\n",
       "    <tr>\n",
       "      <th>1</th>\n",
       "      <td>Samsung</td>\n",
       "      <td>Galaxy Watch 4</td>\n",
       "      <td>Wear OS</td>\n",
       "      <td>Bluetooth, Wi-Fi, Cellular</td>\n",
       "      <td>AMOLED</td>\n",
       "      <td>1.40</td>\n",
       "      <td>450 x 450</td>\n",
       "      <td>50</td>\n",
       "      <td>40</td>\n",
       "      <td>Yes</td>\n",
       "      <td>Yes</td>\n",
       "      <td>Yes</td>\n",
       "      <td>$249</td>\n",
       "    </tr>\n",
       "    <tr>\n",
       "      <th>2</th>\n",
       "      <td>Garmin</td>\n",
       "      <td>Venu 2</td>\n",
       "      <td>Garmin OS</td>\n",
       "      <td>Bluetooth, Wi-Fi</td>\n",
       "      <td>AMOLED</td>\n",
       "      <td>1.30</td>\n",
       "      <td>416 x 416</td>\n",
       "      <td>50</td>\n",
       "      <td>11</td>\n",
       "      <td>Yes</td>\n",
       "      <td>Yes</td>\n",
       "      <td>No</td>\n",
       "      <td>$399</td>\n",
       "    </tr>\n",
       "    <tr>\n",
       "      <th>3</th>\n",
       "      <td>Fitbit</td>\n",
       "      <td>Versa 3</td>\n",
       "      <td>Fitbit OS</td>\n",
       "      <td>Bluetooth, Wi-Fi</td>\n",
       "      <td>AMOLED</td>\n",
       "      <td>1.58</td>\n",
       "      <td>336 x 336</td>\n",
       "      <td>50</td>\n",
       "      <td>6</td>\n",
       "      <td>Yes</td>\n",
       "      <td>Yes</td>\n",
       "      <td>Yes</td>\n",
       "      <td>$229</td>\n",
       "    </tr>\n",
       "    <tr>\n",
       "      <th>4</th>\n",
       "      <td>Fossil</td>\n",
       "      <td>Gen 6</td>\n",
       "      <td>Wear OS</td>\n",
       "      <td>Bluetooth, Wi-Fi</td>\n",
       "      <td>AMOLED</td>\n",
       "      <td>1.28</td>\n",
       "      <td>416 x 416</td>\n",
       "      <td>30</td>\n",
       "      <td>24</td>\n",
       "      <td>Yes</td>\n",
       "      <td>Yes</td>\n",
       "      <td>Yes</td>\n",
       "      <td>$299</td>\n",
       "    </tr>\n",
       "  </tbody>\n",
       "</table>\n",
       "</div>"
      ],
      "text/plain": [
       "     Brand           Model Operating System                Connectivity  \\\n",
       "0    Apple  Watch Series 7          watchOS  Bluetooth, Wi-Fi, Cellular   \n",
       "1  Samsung  Galaxy Watch 4          Wear OS  Bluetooth, Wi-Fi, Cellular   \n",
       "2   Garmin          Venu 2        Garmin OS            Bluetooth, Wi-Fi   \n",
       "3   Fitbit         Versa 3        Fitbit OS            Bluetooth, Wi-Fi   \n",
       "4   Fossil           Gen 6          Wear OS            Bluetooth, Wi-Fi   \n",
       "\n",
       "  Display Type  Display Size (inches) Resolution Water Resistance (meters)  \\\n",
       "0       Retina                   1.90  396 x 484                        50   \n",
       "1       AMOLED                   1.40  450 x 450                        50   \n",
       "2       AMOLED                   1.30  416 x 416                        50   \n",
       "3       AMOLED                   1.58  336 x 336                        50   \n",
       "4       AMOLED                   1.28  416 x 416                        30   \n",
       "\n",
       "  Battery Life (days) Heart Rate Monitor  GPS  NFC Price (USD)  \n",
       "0                  18                Yes  Yes  Yes       $399   \n",
       "1                  40                Yes  Yes  Yes       $249   \n",
       "2                  11                Yes  Yes   No       $399   \n",
       "3                   6                Yes  Yes  Yes       $229   \n",
       "4                  24                Yes  Yes  Yes       $299   "
      ]
     },
     "execution_count": 69,
     "metadata": {},
     "output_type": "execute_result"
    }
   ],
   "source": [
    "df.head()"
   ]
  },
  {
   "cell_type": "code",
   "execution_count": 70,
   "id": "176b1f8a",
   "metadata": {},
   "outputs": [
    {
     "data": {
      "text/plain": [
       "0      Watch Series 7\n",
       "1      Galaxy Watch 4\n",
       "2              Venu 2\n",
       "3             Versa 3\n",
       "4               Gen 6\n",
       "            ...      \n",
       "374         ScanWatch\n",
       "375                 Z\n",
       "376      Watch GS Pro\n",
       "377        Watch Free\n",
       "378             Pro 3\n",
       "Name: Model, Length: 379, dtype: object"
      ]
     },
     "execution_count": 70,
     "metadata": {},
     "output_type": "execute_result"
    }
   ],
   "source": [
    "df['Model']"
   ]
  },
  {
   "cell_type": "code",
   "execution_count": 71,
   "id": "5c03bbb4",
   "metadata": {},
   "outputs": [],
   "source": [
    "df.drop(columns='Model',inplace=True)"
   ]
  },
  {
   "cell_type": "code",
   "execution_count": 72,
   "id": "ea6d2e27",
   "metadata": {},
   "outputs": [
    {
     "data": {
      "text/html": [
       "<div>\n",
       "<style scoped>\n",
       "    .dataframe tbody tr th:only-of-type {\n",
       "        vertical-align: middle;\n",
       "    }\n",
       "\n",
       "    .dataframe tbody tr th {\n",
       "        vertical-align: top;\n",
       "    }\n",
       "\n",
       "    .dataframe thead th {\n",
       "        text-align: right;\n",
       "    }\n",
       "</style>\n",
       "<table border=\"1\" class=\"dataframe\">\n",
       "  <thead>\n",
       "    <tr style=\"text-align: right;\">\n",
       "      <th></th>\n",
       "      <th>Brand</th>\n",
       "      <th>Operating System</th>\n",
       "      <th>Connectivity</th>\n",
       "      <th>Display Type</th>\n",
       "      <th>Display Size (inches)</th>\n",
       "      <th>Resolution</th>\n",
       "      <th>Water Resistance (meters)</th>\n",
       "      <th>Battery Life (days)</th>\n",
       "      <th>Heart Rate Monitor</th>\n",
       "      <th>GPS</th>\n",
       "      <th>NFC</th>\n",
       "      <th>Price (USD)</th>\n",
       "    </tr>\n",
       "  </thead>\n",
       "  <tbody>\n",
       "    <tr>\n",
       "      <th>0</th>\n",
       "      <td>Apple</td>\n",
       "      <td>watchOS</td>\n",
       "      <td>Bluetooth, Wi-Fi, Cellular</td>\n",
       "      <td>Retina</td>\n",
       "      <td>1.90</td>\n",
       "      <td>396 x 484</td>\n",
       "      <td>50</td>\n",
       "      <td>18</td>\n",
       "      <td>Yes</td>\n",
       "      <td>Yes</td>\n",
       "      <td>Yes</td>\n",
       "      <td>$399</td>\n",
       "    </tr>\n",
       "    <tr>\n",
       "      <th>1</th>\n",
       "      <td>Samsung</td>\n",
       "      <td>Wear OS</td>\n",
       "      <td>Bluetooth, Wi-Fi, Cellular</td>\n",
       "      <td>AMOLED</td>\n",
       "      <td>1.40</td>\n",
       "      <td>450 x 450</td>\n",
       "      <td>50</td>\n",
       "      <td>40</td>\n",
       "      <td>Yes</td>\n",
       "      <td>Yes</td>\n",
       "      <td>Yes</td>\n",
       "      <td>$249</td>\n",
       "    </tr>\n",
       "    <tr>\n",
       "      <th>2</th>\n",
       "      <td>Garmin</td>\n",
       "      <td>Garmin OS</td>\n",
       "      <td>Bluetooth, Wi-Fi</td>\n",
       "      <td>AMOLED</td>\n",
       "      <td>1.30</td>\n",
       "      <td>416 x 416</td>\n",
       "      <td>50</td>\n",
       "      <td>11</td>\n",
       "      <td>Yes</td>\n",
       "      <td>Yes</td>\n",
       "      <td>No</td>\n",
       "      <td>$399</td>\n",
       "    </tr>\n",
       "    <tr>\n",
       "      <th>3</th>\n",
       "      <td>Fitbit</td>\n",
       "      <td>Fitbit OS</td>\n",
       "      <td>Bluetooth, Wi-Fi</td>\n",
       "      <td>AMOLED</td>\n",
       "      <td>1.58</td>\n",
       "      <td>336 x 336</td>\n",
       "      <td>50</td>\n",
       "      <td>6</td>\n",
       "      <td>Yes</td>\n",
       "      <td>Yes</td>\n",
       "      <td>Yes</td>\n",
       "      <td>$229</td>\n",
       "    </tr>\n",
       "    <tr>\n",
       "      <th>4</th>\n",
       "      <td>Fossil</td>\n",
       "      <td>Wear OS</td>\n",
       "      <td>Bluetooth, Wi-Fi</td>\n",
       "      <td>AMOLED</td>\n",
       "      <td>1.28</td>\n",
       "      <td>416 x 416</td>\n",
       "      <td>30</td>\n",
       "      <td>24</td>\n",
       "      <td>Yes</td>\n",
       "      <td>Yes</td>\n",
       "      <td>Yes</td>\n",
       "      <td>$299</td>\n",
       "    </tr>\n",
       "  </tbody>\n",
       "</table>\n",
       "</div>"
      ],
      "text/plain": [
       "     Brand Operating System                Connectivity Display Type  \\\n",
       "0    Apple          watchOS  Bluetooth, Wi-Fi, Cellular       Retina   \n",
       "1  Samsung          Wear OS  Bluetooth, Wi-Fi, Cellular       AMOLED   \n",
       "2   Garmin        Garmin OS            Bluetooth, Wi-Fi       AMOLED   \n",
       "3   Fitbit        Fitbit OS            Bluetooth, Wi-Fi       AMOLED   \n",
       "4   Fossil          Wear OS            Bluetooth, Wi-Fi       AMOLED   \n",
       "\n",
       "   Display Size (inches) Resolution Water Resistance (meters)  \\\n",
       "0                   1.90  396 x 484                        50   \n",
       "1                   1.40  450 x 450                        50   \n",
       "2                   1.30  416 x 416                        50   \n",
       "3                   1.58  336 x 336                        50   \n",
       "4                   1.28  416 x 416                        30   \n",
       "\n",
       "  Battery Life (days) Heart Rate Monitor  GPS  NFC Price (USD)  \n",
       "0                  18                Yes  Yes  Yes       $399   \n",
       "1                  40                Yes  Yes  Yes       $249   \n",
       "2                  11                Yes  Yes   No       $399   \n",
       "3                   6                Yes  Yes  Yes       $229   \n",
       "4                  24                Yes  Yes  Yes       $299   "
      ]
     },
     "execution_count": 72,
     "metadata": {},
     "output_type": "execute_result"
    }
   ],
   "source": [
    "df.head()"
   ]
  },
  {
   "cell_type": "code",
   "execution_count": 73,
   "id": "c21230b8",
   "metadata": {},
   "outputs": [
    {
     "data": {
      "text/html": [
       "<div>\n",
       "<style scoped>\n",
       "    .dataframe tbody tr th:only-of-type {\n",
       "        vertical-align: middle;\n",
       "    }\n",
       "\n",
       "    .dataframe tbody tr th {\n",
       "        vertical-align: top;\n",
       "    }\n",
       "\n",
       "    .dataframe thead th {\n",
       "        text-align: right;\n",
       "    }\n",
       "</style>\n",
       "<table border=\"1\" class=\"dataframe\">\n",
       "  <thead>\n",
       "    <tr style=\"text-align: right;\">\n",
       "      <th></th>\n",
       "      <th>Brand</th>\n",
       "      <th>Operating System</th>\n",
       "      <th>Connectivity</th>\n",
       "      <th>Display Type</th>\n",
       "      <th>Display Size (inches)</th>\n",
       "      <th>Resolution</th>\n",
       "      <th>Water Resistance (meters)</th>\n",
       "      <th>Battery Life (days)</th>\n",
       "      <th>Heart Rate Monitor</th>\n",
       "      <th>GPS</th>\n",
       "      <th>NFC</th>\n",
       "      <th>Price (USD)</th>\n",
       "    </tr>\n",
       "  </thead>\n",
       "  <tbody>\n",
       "    <tr>\n",
       "      <th>0</th>\n",
       "      <td>Apple</td>\n",
       "      <td>watchOS</td>\n",
       "      <td>Bluetooth, Wi-Fi, Cellular</td>\n",
       "      <td>Retina</td>\n",
       "      <td>1.90</td>\n",
       "      <td>396 x 484</td>\n",
       "      <td>50</td>\n",
       "      <td>18</td>\n",
       "      <td>Yes</td>\n",
       "      <td>Yes</td>\n",
       "      <td>Yes</td>\n",
       "      <td>$399</td>\n",
       "    </tr>\n",
       "    <tr>\n",
       "      <th>1</th>\n",
       "      <td>Samsung</td>\n",
       "      <td>Wear OS</td>\n",
       "      <td>Bluetooth, Wi-Fi, Cellular</td>\n",
       "      <td>AMOLED</td>\n",
       "      <td>1.40</td>\n",
       "      <td>450 x 450</td>\n",
       "      <td>50</td>\n",
       "      <td>40</td>\n",
       "      <td>Yes</td>\n",
       "      <td>Yes</td>\n",
       "      <td>Yes</td>\n",
       "      <td>$249</td>\n",
       "    </tr>\n",
       "    <tr>\n",
       "      <th>2</th>\n",
       "      <td>Garmin</td>\n",
       "      <td>Garmin OS</td>\n",
       "      <td>Bluetooth, Wi-Fi</td>\n",
       "      <td>AMOLED</td>\n",
       "      <td>1.30</td>\n",
       "      <td>416 x 416</td>\n",
       "      <td>50</td>\n",
       "      <td>11</td>\n",
       "      <td>Yes</td>\n",
       "      <td>Yes</td>\n",
       "      <td>No</td>\n",
       "      <td>$399</td>\n",
       "    </tr>\n",
       "    <tr>\n",
       "      <th>3</th>\n",
       "      <td>Fitbit</td>\n",
       "      <td>Fitbit OS</td>\n",
       "      <td>Bluetooth, Wi-Fi</td>\n",
       "      <td>AMOLED</td>\n",
       "      <td>1.58</td>\n",
       "      <td>336 x 336</td>\n",
       "      <td>50</td>\n",
       "      <td>6</td>\n",
       "      <td>Yes</td>\n",
       "      <td>Yes</td>\n",
       "      <td>Yes</td>\n",
       "      <td>$229</td>\n",
       "    </tr>\n",
       "    <tr>\n",
       "      <th>4</th>\n",
       "      <td>Fossil</td>\n",
       "      <td>Wear OS</td>\n",
       "      <td>Bluetooth, Wi-Fi</td>\n",
       "      <td>AMOLED</td>\n",
       "      <td>1.28</td>\n",
       "      <td>416 x 416</td>\n",
       "      <td>30</td>\n",
       "      <td>24</td>\n",
       "      <td>Yes</td>\n",
       "      <td>Yes</td>\n",
       "      <td>Yes</td>\n",
       "      <td>$299</td>\n",
       "    </tr>\n",
       "  </tbody>\n",
       "</table>\n",
       "</div>"
      ],
      "text/plain": [
       "     Brand Operating System                Connectivity Display Type  \\\n",
       "0    Apple          watchOS  Bluetooth, Wi-Fi, Cellular       Retina   \n",
       "1  Samsung          Wear OS  Bluetooth, Wi-Fi, Cellular       AMOLED   \n",
       "2   Garmin        Garmin OS            Bluetooth, Wi-Fi       AMOLED   \n",
       "3   Fitbit        Fitbit OS            Bluetooth, Wi-Fi       AMOLED   \n",
       "4   Fossil          Wear OS            Bluetooth, Wi-Fi       AMOLED   \n",
       "\n",
       "   Display Size (inches) Resolution Water Resistance (meters)  \\\n",
       "0                   1.90  396 x 484                        50   \n",
       "1                   1.40  450 x 450                        50   \n",
       "2                   1.30  416 x 416                        50   \n",
       "3                   1.58  336 x 336                        50   \n",
       "4                   1.28  416 x 416                        30   \n",
       "\n",
       "  Battery Life (days) Heart Rate Monitor  GPS  NFC Price (USD)  \n",
       "0                  18                Yes  Yes  Yes       $399   \n",
       "1                  40                Yes  Yes  Yes       $249   \n",
       "2                  11                Yes  Yes   No       $399   \n",
       "3                   6                Yes  Yes  Yes       $229   \n",
       "4                  24                Yes  Yes  Yes       $299   "
      ]
     },
     "execution_count": 73,
     "metadata": {},
     "output_type": "execute_result"
    }
   ],
   "source": [
    "df.head()"
   ]
  },
  {
   "cell_type": "code",
   "execution_count": 74,
   "id": "b0aa3d1a",
   "metadata": {},
   "outputs": [
    {
     "data": {
      "text/plain": [
       "0      $399 \n",
       "1      $249 \n",
       "2      $399 \n",
       "3      $229 \n",
       "4      $299 \n",
       "       ...  \n",
       "374    $279 \n",
       "375    $349 \n",
       "376    $249 \n",
       "377    $159 \n",
       "378    $299 \n",
       "Name: Price (USD), Length: 379, dtype: object"
      ]
     },
     "execution_count": 74,
     "metadata": {},
     "output_type": "execute_result"
    }
   ],
   "source": [
    "df['Price (USD)']"
   ]
  },
  {
   "cell_type": "code",
   "execution_count": 75,
   "id": "7b2a72b2",
   "metadata": {},
   "outputs": [
    {
     "name": "stderr",
     "output_type": "stream",
     "text": [
      "<ipython-input-75-f0f716e61aca>:2: FutureWarning: The default value of regex will change from True to False in a future version. In addition, single character regular expressions will*not* be treated as literal strings when regex=True.\n",
      "  df['Price (USD)'] = df['Price (USD)'].str.replace(',','').str.replace('$','')\n"
     ]
    }
   ],
   "source": [
    "# Remove Dollar and Comma from price column\n",
    "df['Price (USD)'] = df['Price (USD)'].str.replace(',','').str.replace('$','')"
   ]
  },
  {
   "cell_type": "code",
   "execution_count": 76,
   "id": "90be00cc",
   "metadata": {},
   "outputs": [
    {
     "data": {
      "text/html": [
       "<div>\n",
       "<style scoped>\n",
       "    .dataframe tbody tr th:only-of-type {\n",
       "        vertical-align: middle;\n",
       "    }\n",
       "\n",
       "    .dataframe tbody tr th {\n",
       "        vertical-align: top;\n",
       "    }\n",
       "\n",
       "    .dataframe thead th {\n",
       "        text-align: right;\n",
       "    }\n",
       "</style>\n",
       "<table border=\"1\" class=\"dataframe\">\n",
       "  <thead>\n",
       "    <tr style=\"text-align: right;\">\n",
       "      <th></th>\n",
       "      <th>Brand</th>\n",
       "      <th>Operating System</th>\n",
       "      <th>Connectivity</th>\n",
       "      <th>Display Type</th>\n",
       "      <th>Display Size (inches)</th>\n",
       "      <th>Resolution</th>\n",
       "      <th>Water Resistance (meters)</th>\n",
       "      <th>Battery Life (days)</th>\n",
       "      <th>Heart Rate Monitor</th>\n",
       "      <th>GPS</th>\n",
       "      <th>NFC</th>\n",
       "      <th>Price (USD)</th>\n",
       "    </tr>\n",
       "  </thead>\n",
       "  <tbody>\n",
       "    <tr>\n",
       "      <th>0</th>\n",
       "      <td>Apple</td>\n",
       "      <td>watchOS</td>\n",
       "      <td>Bluetooth, Wi-Fi, Cellular</td>\n",
       "      <td>Retina</td>\n",
       "      <td>1.90</td>\n",
       "      <td>396 x 484</td>\n",
       "      <td>50</td>\n",
       "      <td>18</td>\n",
       "      <td>Yes</td>\n",
       "      <td>Yes</td>\n",
       "      <td>Yes</td>\n",
       "      <td>399</td>\n",
       "    </tr>\n",
       "    <tr>\n",
       "      <th>1</th>\n",
       "      <td>Samsung</td>\n",
       "      <td>Wear OS</td>\n",
       "      <td>Bluetooth, Wi-Fi, Cellular</td>\n",
       "      <td>AMOLED</td>\n",
       "      <td>1.40</td>\n",
       "      <td>450 x 450</td>\n",
       "      <td>50</td>\n",
       "      <td>40</td>\n",
       "      <td>Yes</td>\n",
       "      <td>Yes</td>\n",
       "      <td>Yes</td>\n",
       "      <td>249</td>\n",
       "    </tr>\n",
       "    <tr>\n",
       "      <th>2</th>\n",
       "      <td>Garmin</td>\n",
       "      <td>Garmin OS</td>\n",
       "      <td>Bluetooth, Wi-Fi</td>\n",
       "      <td>AMOLED</td>\n",
       "      <td>1.30</td>\n",
       "      <td>416 x 416</td>\n",
       "      <td>50</td>\n",
       "      <td>11</td>\n",
       "      <td>Yes</td>\n",
       "      <td>Yes</td>\n",
       "      <td>No</td>\n",
       "      <td>399</td>\n",
       "    </tr>\n",
       "    <tr>\n",
       "      <th>3</th>\n",
       "      <td>Fitbit</td>\n",
       "      <td>Fitbit OS</td>\n",
       "      <td>Bluetooth, Wi-Fi</td>\n",
       "      <td>AMOLED</td>\n",
       "      <td>1.58</td>\n",
       "      <td>336 x 336</td>\n",
       "      <td>50</td>\n",
       "      <td>6</td>\n",
       "      <td>Yes</td>\n",
       "      <td>Yes</td>\n",
       "      <td>Yes</td>\n",
       "      <td>229</td>\n",
       "    </tr>\n",
       "    <tr>\n",
       "      <th>4</th>\n",
       "      <td>Fossil</td>\n",
       "      <td>Wear OS</td>\n",
       "      <td>Bluetooth, Wi-Fi</td>\n",
       "      <td>AMOLED</td>\n",
       "      <td>1.28</td>\n",
       "      <td>416 x 416</td>\n",
       "      <td>30</td>\n",
       "      <td>24</td>\n",
       "      <td>Yes</td>\n",
       "      <td>Yes</td>\n",
       "      <td>Yes</td>\n",
       "      <td>299</td>\n",
       "    </tr>\n",
       "  </tbody>\n",
       "</table>\n",
       "</div>"
      ],
      "text/plain": [
       "     Brand Operating System                Connectivity Display Type  \\\n",
       "0    Apple          watchOS  Bluetooth, Wi-Fi, Cellular       Retina   \n",
       "1  Samsung          Wear OS  Bluetooth, Wi-Fi, Cellular       AMOLED   \n",
       "2   Garmin        Garmin OS            Bluetooth, Wi-Fi       AMOLED   \n",
       "3   Fitbit        Fitbit OS            Bluetooth, Wi-Fi       AMOLED   \n",
       "4   Fossil          Wear OS            Bluetooth, Wi-Fi       AMOLED   \n",
       "\n",
       "   Display Size (inches) Resolution Water Resistance (meters)  \\\n",
       "0                   1.90  396 x 484                        50   \n",
       "1                   1.40  450 x 450                        50   \n",
       "2                   1.30  416 x 416                        50   \n",
       "3                   1.58  336 x 336                        50   \n",
       "4                   1.28  416 x 416                        30   \n",
       "\n",
       "  Battery Life (days) Heart Rate Monitor  GPS  NFC Price (USD)  \n",
       "0                  18                Yes  Yes  Yes        399   \n",
       "1                  40                Yes  Yes  Yes        249   \n",
       "2                  11                Yes  Yes   No        399   \n",
       "3                   6                Yes  Yes  Yes        229   \n",
       "4                  24                Yes  Yes  Yes        299   "
      ]
     },
     "execution_count": 76,
     "metadata": {},
     "output_type": "execute_result"
    }
   ],
   "source": [
    "df.head()"
   ]
  },
  {
   "cell_type": "code",
   "execution_count": 77,
   "id": "350b7066",
   "metadata": {},
   "outputs": [],
   "source": [
    "df['Price (USD)'] = pd.to_numeric(df['Price (USD)'])"
   ]
  },
  {
   "cell_type": "code",
   "execution_count": 78,
   "id": "a207fc05",
   "metadata": {},
   "outputs": [
    {
     "data": {
      "text/html": [
       "<div>\n",
       "<style scoped>\n",
       "    .dataframe tbody tr th:only-of-type {\n",
       "        vertical-align: middle;\n",
       "    }\n",
       "\n",
       "    .dataframe tbody tr th {\n",
       "        vertical-align: top;\n",
       "    }\n",
       "\n",
       "    .dataframe thead th {\n",
       "        text-align: right;\n",
       "    }\n",
       "</style>\n",
       "<table border=\"1\" class=\"dataframe\">\n",
       "  <thead>\n",
       "    <tr style=\"text-align: right;\">\n",
       "      <th></th>\n",
       "      <th>Brand</th>\n",
       "      <th>Operating System</th>\n",
       "      <th>Connectivity</th>\n",
       "      <th>Display Type</th>\n",
       "      <th>Display Size (inches)</th>\n",
       "      <th>Resolution</th>\n",
       "      <th>Water Resistance (meters)</th>\n",
       "      <th>Battery Life (days)</th>\n",
       "      <th>Heart Rate Monitor</th>\n",
       "      <th>GPS</th>\n",
       "      <th>NFC</th>\n",
       "      <th>Price (USD)</th>\n",
       "    </tr>\n",
       "  </thead>\n",
       "  <tbody>\n",
       "    <tr>\n",
       "      <th>0</th>\n",
       "      <td>Apple</td>\n",
       "      <td>watchOS</td>\n",
       "      <td>Bluetooth, Wi-Fi, Cellular</td>\n",
       "      <td>Retina</td>\n",
       "      <td>1.90</td>\n",
       "      <td>396 x 484</td>\n",
       "      <td>50</td>\n",
       "      <td>18</td>\n",
       "      <td>Yes</td>\n",
       "      <td>Yes</td>\n",
       "      <td>Yes</td>\n",
       "      <td>399.0</td>\n",
       "    </tr>\n",
       "    <tr>\n",
       "      <th>1</th>\n",
       "      <td>Samsung</td>\n",
       "      <td>Wear OS</td>\n",
       "      <td>Bluetooth, Wi-Fi, Cellular</td>\n",
       "      <td>AMOLED</td>\n",
       "      <td>1.40</td>\n",
       "      <td>450 x 450</td>\n",
       "      <td>50</td>\n",
       "      <td>40</td>\n",
       "      <td>Yes</td>\n",
       "      <td>Yes</td>\n",
       "      <td>Yes</td>\n",
       "      <td>249.0</td>\n",
       "    </tr>\n",
       "    <tr>\n",
       "      <th>2</th>\n",
       "      <td>Garmin</td>\n",
       "      <td>Garmin OS</td>\n",
       "      <td>Bluetooth, Wi-Fi</td>\n",
       "      <td>AMOLED</td>\n",
       "      <td>1.30</td>\n",
       "      <td>416 x 416</td>\n",
       "      <td>50</td>\n",
       "      <td>11</td>\n",
       "      <td>Yes</td>\n",
       "      <td>Yes</td>\n",
       "      <td>No</td>\n",
       "      <td>399.0</td>\n",
       "    </tr>\n",
       "    <tr>\n",
       "      <th>3</th>\n",
       "      <td>Fitbit</td>\n",
       "      <td>Fitbit OS</td>\n",
       "      <td>Bluetooth, Wi-Fi</td>\n",
       "      <td>AMOLED</td>\n",
       "      <td>1.58</td>\n",
       "      <td>336 x 336</td>\n",
       "      <td>50</td>\n",
       "      <td>6</td>\n",
       "      <td>Yes</td>\n",
       "      <td>Yes</td>\n",
       "      <td>Yes</td>\n",
       "      <td>229.0</td>\n",
       "    </tr>\n",
       "    <tr>\n",
       "      <th>4</th>\n",
       "      <td>Fossil</td>\n",
       "      <td>Wear OS</td>\n",
       "      <td>Bluetooth, Wi-Fi</td>\n",
       "      <td>AMOLED</td>\n",
       "      <td>1.28</td>\n",
       "      <td>416 x 416</td>\n",
       "      <td>30</td>\n",
       "      <td>24</td>\n",
       "      <td>Yes</td>\n",
       "      <td>Yes</td>\n",
       "      <td>Yes</td>\n",
       "      <td>299.0</td>\n",
       "    </tr>\n",
       "  </tbody>\n",
       "</table>\n",
       "</div>"
      ],
      "text/plain": [
       "     Brand Operating System                Connectivity Display Type  \\\n",
       "0    Apple          watchOS  Bluetooth, Wi-Fi, Cellular       Retina   \n",
       "1  Samsung          Wear OS  Bluetooth, Wi-Fi, Cellular       AMOLED   \n",
       "2   Garmin        Garmin OS            Bluetooth, Wi-Fi       AMOLED   \n",
       "3   Fitbit        Fitbit OS            Bluetooth, Wi-Fi       AMOLED   \n",
       "4   Fossil          Wear OS            Bluetooth, Wi-Fi       AMOLED   \n",
       "\n",
       "   Display Size (inches) Resolution Water Resistance (meters)  \\\n",
       "0                   1.90  396 x 484                        50   \n",
       "1                   1.40  450 x 450                        50   \n",
       "2                   1.30  416 x 416                        50   \n",
       "3                   1.58  336 x 336                        50   \n",
       "4                   1.28  416 x 416                        30   \n",
       "\n",
       "  Battery Life (days) Heart Rate Monitor  GPS  NFC  Price (USD)  \n",
       "0                  18                Yes  Yes  Yes        399.0  \n",
       "1                  40                Yes  Yes  Yes        249.0  \n",
       "2                  11                Yes  Yes   No        399.0  \n",
       "3                   6                Yes  Yes  Yes        229.0  \n",
       "4                  24                Yes  Yes  Yes        299.0  "
      ]
     },
     "execution_count": 78,
     "metadata": {},
     "output_type": "execute_result"
    }
   ],
   "source": [
    "df.head()"
   ]
  },
  {
   "cell_type": "code",
   "execution_count": 79,
   "id": "d0d57b6a",
   "metadata": {},
   "outputs": [
    {
     "data": {
      "text/plain": [
       "Brand                         object\n",
       "Operating System              object\n",
       "Connectivity                  object\n",
       "Display Type                  object\n",
       "Display Size (inches)        float64\n",
       "Resolution                    object\n",
       "Water Resistance (meters)     object\n",
       "Battery Life (days)           object\n",
       "Heart Rate Monitor            object\n",
       "GPS                           object\n",
       "NFC                           object\n",
       "Price (USD)                  float64\n",
       "dtype: object"
      ]
     },
     "execution_count": 79,
     "metadata": {},
     "output_type": "execute_result"
    }
   ],
   "source": [
    "df.dtypes"
   ]
  },
  {
   "cell_type": "code",
   "execution_count": 80,
   "id": "4a2ff7bc",
   "metadata": {},
   "outputs": [
    {
     "data": {
      "text/plain": [
       "Brand                        42\n",
       "Operating System             35\n",
       "Connectivity                  5\n",
       "Display Type                 27\n",
       "Resolution                   36\n",
       "Water Resistance (meters)     7\n",
       "Battery Life (days)          30\n",
       "Heart Rate Monitor            1\n",
       "GPS                           2\n",
       "NFC                           2\n",
       "dtype: int64"
      ]
     },
     "execution_count": 80,
     "metadata": {},
     "output_type": "execute_result"
    }
   ],
   "source": [
    "df.select_dtypes(include='object').nunique()"
   ]
  },
  {
   "cell_type": "code",
   "execution_count": 81,
   "id": "a230c426",
   "metadata": {},
   "outputs": [
    {
     "data": {
      "text/plain": [
       "array(['watchOS', 'Wear OS', 'Garmin OS', 'Fitbit OS', 'HarmonyOS',\n",
       "       'ColorOS', 'Amazfit OS', nan, 'Withings OS', 'Polar OS',\n",
       "       'Tizen OS', 'Hybrid OS', 'Lite OS', 'Tizen', 'Suunto OS',\n",
       "       'Proprietary OS', 'Proprietary', 'LiteOS', 'Android Wear',\n",
       "       'MIUI for Watch', 'Custom OS', 'Fossil OS', 'MIUI', 'RTOS',\n",
       "       'MyKronoz OS', 'Nubia OS', 'Mi Wear OS', 'Zepp OS', 'Realme OS',\n",
       "       'Matrix OS', 'Android OS', 'Casio OS', 'Skagen OS', 'Timex OS',\n",
       "       'MIUI For Watch', 'Android'], dtype=object)"
      ]
     },
     "execution_count": 81,
     "metadata": {},
     "output_type": "execute_result"
    }
   ],
   "source": [
    "df['Operating System'].unique()"
   ]
  },
  {
   "cell_type": "code",
   "execution_count": 82,
   "id": "0466122e",
   "metadata": {},
   "outputs": [
    {
     "data": {
      "text/plain": [
       "14"
      ]
     },
     "execution_count": 82,
     "metadata": {},
     "output_type": "execute_result"
    }
   ],
   "source": [
    "df['Operating System'].value_counts()['watchOS']"
   ]
  },
  {
   "cell_type": "code",
   "execution_count": 83,
   "id": "6a39d0d0",
   "metadata": {},
   "outputs": [],
   "source": [
    "def segment_os(os):\n",
    "    if pd.isnull(os):\n",
    "        return 'Unknown'\n",
    "    elif 'watchOS' in os:\n",
    "        return 'watchOS'\n",
    "    elif 'Wear OS' in os or 'Android Wear' in os:\n",
    "        return 'Wear OS'\n",
    "    elif 'Garmin' in os:\n",
    "        return 'Garmin OS'\n",
    "    elif 'Fitbit' in os:\n",
    "        return 'Fitbit OS'\n",
    "    elif 'Tizen' in os:\n",
    "        return 'Tizen OS'\n",
    "    elif 'Proprietary' in os:\n",
    "        return 'Proprietary OS'\n",
    "    else:\n",
    "        return 'Other'\n",
    "    \n",
    "df['Operating System'] = df['Operating System'].apply(segment_os)"
   ]
  },
  {
   "cell_type": "code",
   "execution_count": 84,
   "id": "ba06cb87",
   "metadata": {},
   "outputs": [
    {
     "data": {
      "text/html": [
       "<div>\n",
       "<style scoped>\n",
       "    .dataframe tbody tr th:only-of-type {\n",
       "        vertical-align: middle;\n",
       "    }\n",
       "\n",
       "    .dataframe tbody tr th {\n",
       "        vertical-align: top;\n",
       "    }\n",
       "\n",
       "    .dataframe thead th {\n",
       "        text-align: right;\n",
       "    }\n",
       "</style>\n",
       "<table border=\"1\" class=\"dataframe\">\n",
       "  <thead>\n",
       "    <tr style=\"text-align: right;\">\n",
       "      <th></th>\n",
       "      <th>Brand</th>\n",
       "      <th>Operating System</th>\n",
       "      <th>Connectivity</th>\n",
       "      <th>Display Type</th>\n",
       "      <th>Display Size (inches)</th>\n",
       "      <th>Resolution</th>\n",
       "      <th>Water Resistance (meters)</th>\n",
       "      <th>Battery Life (days)</th>\n",
       "      <th>Heart Rate Monitor</th>\n",
       "      <th>GPS</th>\n",
       "      <th>NFC</th>\n",
       "      <th>Price (USD)</th>\n",
       "    </tr>\n",
       "  </thead>\n",
       "  <tbody>\n",
       "    <tr>\n",
       "      <th>0</th>\n",
       "      <td>Apple</td>\n",
       "      <td>watchOS</td>\n",
       "      <td>Bluetooth, Wi-Fi, Cellular</td>\n",
       "      <td>Retina</td>\n",
       "      <td>1.90</td>\n",
       "      <td>396 x 484</td>\n",
       "      <td>50</td>\n",
       "      <td>18</td>\n",
       "      <td>Yes</td>\n",
       "      <td>Yes</td>\n",
       "      <td>Yes</td>\n",
       "      <td>399.0</td>\n",
       "    </tr>\n",
       "    <tr>\n",
       "      <th>1</th>\n",
       "      <td>Samsung</td>\n",
       "      <td>Wear OS</td>\n",
       "      <td>Bluetooth, Wi-Fi, Cellular</td>\n",
       "      <td>AMOLED</td>\n",
       "      <td>1.40</td>\n",
       "      <td>450 x 450</td>\n",
       "      <td>50</td>\n",
       "      <td>40</td>\n",
       "      <td>Yes</td>\n",
       "      <td>Yes</td>\n",
       "      <td>Yes</td>\n",
       "      <td>249.0</td>\n",
       "    </tr>\n",
       "    <tr>\n",
       "      <th>2</th>\n",
       "      <td>Garmin</td>\n",
       "      <td>Garmin OS</td>\n",
       "      <td>Bluetooth, Wi-Fi</td>\n",
       "      <td>AMOLED</td>\n",
       "      <td>1.30</td>\n",
       "      <td>416 x 416</td>\n",
       "      <td>50</td>\n",
       "      <td>11</td>\n",
       "      <td>Yes</td>\n",
       "      <td>Yes</td>\n",
       "      <td>No</td>\n",
       "      <td>399.0</td>\n",
       "    </tr>\n",
       "    <tr>\n",
       "      <th>3</th>\n",
       "      <td>Fitbit</td>\n",
       "      <td>Fitbit OS</td>\n",
       "      <td>Bluetooth, Wi-Fi</td>\n",
       "      <td>AMOLED</td>\n",
       "      <td>1.58</td>\n",
       "      <td>336 x 336</td>\n",
       "      <td>50</td>\n",
       "      <td>6</td>\n",
       "      <td>Yes</td>\n",
       "      <td>Yes</td>\n",
       "      <td>Yes</td>\n",
       "      <td>229.0</td>\n",
       "    </tr>\n",
       "    <tr>\n",
       "      <th>4</th>\n",
       "      <td>Fossil</td>\n",
       "      <td>Wear OS</td>\n",
       "      <td>Bluetooth, Wi-Fi</td>\n",
       "      <td>AMOLED</td>\n",
       "      <td>1.28</td>\n",
       "      <td>416 x 416</td>\n",
       "      <td>30</td>\n",
       "      <td>24</td>\n",
       "      <td>Yes</td>\n",
       "      <td>Yes</td>\n",
       "      <td>Yes</td>\n",
       "      <td>299.0</td>\n",
       "    </tr>\n",
       "  </tbody>\n",
       "</table>\n",
       "</div>"
      ],
      "text/plain": [
       "     Brand Operating System                Connectivity Display Type  \\\n",
       "0    Apple          watchOS  Bluetooth, Wi-Fi, Cellular       Retina   \n",
       "1  Samsung          Wear OS  Bluetooth, Wi-Fi, Cellular       AMOLED   \n",
       "2   Garmin        Garmin OS            Bluetooth, Wi-Fi       AMOLED   \n",
       "3   Fitbit        Fitbit OS            Bluetooth, Wi-Fi       AMOLED   \n",
       "4   Fossil          Wear OS            Bluetooth, Wi-Fi       AMOLED   \n",
       "\n",
       "   Display Size (inches) Resolution Water Resistance (meters)  \\\n",
       "0                   1.90  396 x 484                        50   \n",
       "1                   1.40  450 x 450                        50   \n",
       "2                   1.30  416 x 416                        50   \n",
       "3                   1.58  336 x 336                        50   \n",
       "4                   1.28  416 x 416                        30   \n",
       "\n",
       "  Battery Life (days) Heart Rate Monitor  GPS  NFC  Price (USD)  \n",
       "0                  18                Yes  Yes  Yes        399.0  \n",
       "1                  40                Yes  Yes  Yes        249.0  \n",
       "2                  11                Yes  Yes   No        399.0  \n",
       "3                   6                Yes  Yes  Yes        229.0  \n",
       "4                  24                Yes  Yes  Yes        299.0  "
      ]
     },
     "execution_count": 84,
     "metadata": {},
     "output_type": "execute_result"
    }
   ],
   "source": [
    "df.head()"
   ]
  },
  {
   "cell_type": "code",
   "execution_count": 85,
   "id": "f6936397",
   "metadata": {},
   "outputs": [
    {
     "data": {
      "text/plain": [
       "<AxesSubplot:>"
      ]
     },
     "execution_count": 85,
     "metadata": {},
     "output_type": "execute_result"
    },
    {
     "data": {
      "image/png": "[encoded data removed]",
      "text/plain": [
       "<Figure size 720x360 with 1 Axes>"
      ]
     },
     "metadata": {},
     "output_type": "display_data"
    }
   ],
   "source": [
    "plt.figure(figsize=(10,5))\n",
    "df['Operating System'].value_counts().plot(kind='bar')"
   ]
  },
  {
   "cell_type": "code",
   "execution_count": 90,
   "id": "8ddb619b",
   "metadata": {},
   "outputs": [
    {
     "data": {
      "text/plain": [
       "<AxesSubplot:>"
      ]
     },
     "execution_count": 90,
     "metadata": {},
     "output_type": "execute_result"
    },
    {
     "data": {
      "image/png": "[encoded data removed]",
      "text/plain": [
       "<Figure size 720x360 with 1 Axes>"
      ]
     },
     "metadata": {},
     "output_type": "display_data"
    }
   ],
   "source": [
    "plt.figure(figsize=(10,5))\n",
    "df['Operating System'].value_counts().plot(kind='bar')"
   ]
  },
  {
   "cell_type": "code",
   "execution_count": 91,
   "id": "49e83ae8",
   "metadata": {},
   "outputs": [
    {
     "data": {
      "text/html": [
       "<div>\n",
       "<style scoped>\n",
       "    .dataframe tbody tr th:only-of-type {\n",
       "        vertical-align: middle;\n",
       "    }\n",
       "\n",
       "    .dataframe tbody tr th {\n",
       "        vertical-align: top;\n",
       "    }\n",
       "\n",
       "    .dataframe thead th {\n",
       "        text-align: right;\n",
       "    }\n",
       "</style>\n",
       "<table border=\"1\" class=\"dataframe\">\n",
       "  <thead>\n",
       "    <tr style=\"text-align: right;\">\n",
       "      <th></th>\n",
       "      <th>Brand</th>\n",
       "      <th>Operating System</th>\n",
       "      <th>Connectivity</th>\n",
       "      <th>Display Type</th>\n",
       "      <th>Display Size (inches)</th>\n",
       "      <th>Resolution</th>\n",
       "      <th>Water Resistance (meters)</th>\n",
       "      <th>Battery Life (days)</th>\n",
       "      <th>Heart Rate Monitor</th>\n",
       "      <th>GPS</th>\n",
       "      <th>NFC</th>\n",
       "      <th>Price (USD)</th>\n",
       "    </tr>\n",
       "  </thead>\n",
       "  <tbody>\n",
       "    <tr>\n",
       "      <th>0</th>\n",
       "      <td>Apple</td>\n",
       "      <td>watchOS</td>\n",
       "      <td>Bluetooth, Wi-Fi, Cellular</td>\n",
       "      <td>Retina</td>\n",
       "      <td>1.90</td>\n",
       "      <td>396 x 484</td>\n",
       "      <td>50</td>\n",
       "      <td>18</td>\n",
       "      <td>Yes</td>\n",
       "      <td>Yes</td>\n",
       "      <td>Yes</td>\n",
       "      <td>399.0</td>\n",
       "    </tr>\n",
       "    <tr>\n",
       "      <th>1</th>\n",
       "      <td>Samsung</td>\n",
       "      <td>Wear OS</td>\n",
       "      <td>Bluetooth, Wi-Fi, Cellular</td>\n",
       "      <td>AMOLED</td>\n",
       "      <td>1.40</td>\n",
       "      <td>450 x 450</td>\n",
       "      <td>50</td>\n",
       "      <td>40</td>\n",
       "      <td>Yes</td>\n",
       "      <td>Yes</td>\n",
       "      <td>Yes</td>\n",
       "      <td>249.0</td>\n",
       "    </tr>\n",
       "    <tr>\n",
       "      <th>2</th>\n",
       "      <td>Garmin</td>\n",
       "      <td>Garmin OS</td>\n",
       "      <td>Bluetooth, Wi-Fi</td>\n",
       "      <td>AMOLED</td>\n",
       "      <td>1.30</td>\n",
       "      <td>416 x 416</td>\n",
       "      <td>50</td>\n",
       "      <td>11</td>\n",
       "      <td>Yes</td>\n",
       "      <td>Yes</td>\n",
       "      <td>No</td>\n",
       "      <td>399.0</td>\n",
       "    </tr>\n",
       "    <tr>\n",
       "      <th>3</th>\n",
       "      <td>Fitbit</td>\n",
       "      <td>Fitbit OS</td>\n",
       "      <td>Bluetooth, Wi-Fi</td>\n",
       "      <td>AMOLED</td>\n",
       "      <td>1.58</td>\n",
       "      <td>336 x 336</td>\n",
       "      <td>50</td>\n",
       "      <td>6</td>\n",
       "      <td>Yes</td>\n",
       "      <td>Yes</td>\n",
       "      <td>Yes</td>\n",
       "      <td>229.0</td>\n",
       "    </tr>\n",
       "    <tr>\n",
       "      <th>4</th>\n",
       "      <td>Fossil</td>\n",
       "      <td>Wear OS</td>\n",
       "      <td>Bluetooth, Wi-Fi</td>\n",
       "      <td>AMOLED</td>\n",
       "      <td>1.28</td>\n",
       "      <td>416 x 416</td>\n",
       "      <td>30</td>\n",
       "      <td>24</td>\n",
       "      <td>Yes</td>\n",
       "      <td>Yes</td>\n",
       "      <td>Yes</td>\n",
       "      <td>299.0</td>\n",
       "    </tr>\n",
       "  </tbody>\n",
       "</table>\n",
       "</div>"
      ],
      "text/plain": [
       "     Brand Operating System                Connectivity Display Type  \\\n",
       "0    Apple          watchOS  Bluetooth, Wi-Fi, Cellular       Retina   \n",
       "1  Samsung          Wear OS  Bluetooth, Wi-Fi, Cellular       AMOLED   \n",
       "2   Garmin        Garmin OS            Bluetooth, Wi-Fi       AMOLED   \n",
       "3   Fitbit        Fitbit OS            Bluetooth, Wi-Fi       AMOLED   \n",
       "4   Fossil          Wear OS            Bluetooth, Wi-Fi       AMOLED   \n",
       "\n",
       "   Display Size (inches) Resolution Water Resistance (meters)  \\\n",
       "0                   1.90  396 x 484                        50   \n",
       "1                   1.40  450 x 450                        50   \n",
       "2                   1.30  416 x 416                        50   \n",
       "3                   1.58  336 x 336                        50   \n",
       "4                   1.28  416 x 416                        30   \n",
       "\n",
       "  Battery Life (days) Heart Rate Monitor  GPS  NFC  Price (USD)  \n",
       "0                  18                Yes  Yes  Yes        399.0  \n",
       "1                  40                Yes  Yes  Yes        249.0  \n",
       "2                  11                Yes  Yes   No        399.0  \n",
       "3                   6                Yes  Yes  Yes        229.0  \n",
       "4                  24                Yes  Yes  Yes        299.0  "
      ]
     },
     "execution_count": 91,
     "metadata": {},
     "output_type": "execute_result"
    }
   ],
   "source": [
    "df.head()"
   ]
  },
  {
   "cell_type": "code",
   "execution_count": 96,
   "id": "9f46ac82",
   "metadata": {},
   "outputs": [
    {
     "data": {
      "text/plain": [
       "27"
      ]
     },
     "execution_count": 96,
     "metadata": {},
     "output_type": "execute_result"
    }
   ],
   "source": [
    "df['Display Type'].nunique()"
   ]
  },
  {
   "cell_type": "code",
   "execution_count": 97,
   "id": "458c15e3",
   "metadata": {},
   "outputs": [
    {
     "data": {
      "text/plain": [
       "array(['Retina', 'AMOLED', 'IPS LCD', nan, 'TFT LCD',\n",
       "       'Memory-in-pixel (MIP)', 'Super AMOLED', 'LCD', 'Analog',\n",
       "       'Transflective', 'OLED', 'Gorilla Glass', 'MIP', 'P-OLED',\n",
       "       'transflective', 'PMOLED', 'TFT',\n",
       "       'Sunlight-visible, transflective memory-in-pixel (MIP)', 'E-Ink',\n",
       "       'E-ink', 'Sunlight-visible', 'Color Touch', 'IPS', 'Dual Layer',\n",
       "       'TFT-LCD', 'STN LCD', 'Monochrome', 'Memory LCD'], dtype=object)"
      ]
     },
     "execution_count": 97,
     "metadata": {},
     "output_type": "execute_result"
    }
   ],
   "source": [
    "df['Display Type'].unique()"
   ]
  },
  {
   "cell_type": "code",
   "execution_count": 101,
   "id": "305eb21f",
   "metadata": {},
   "outputs": [
    {
     "data": {
      "text/plain": [
       "14"
      ]
     },
     "execution_count": 101,
     "metadata": {},
     "output_type": "execute_result"
    }
   ],
   "source": [
    "df['Display Type'].value_counts()['Retina']"
   ]
  },
  {
   "cell_type": "code",
   "execution_count": 103,
   "id": "e5976757",
   "metadata": {},
   "outputs": [
    {
     "data": {
      "text/plain": [
       "207"
      ]
     },
     "execution_count": 103,
     "metadata": {},
     "output_type": "execute_result"
    }
   ],
   "source": [
    "df['Display Type'].value_counts()['AMOLED']"
   ]
  },
  {
   "cell_type": "code",
   "execution_count": 104,
   "id": "036cd6d0",
   "metadata": {},
   "outputs": [
    {
     "data": {
      "text/plain": [
       "14"
      ]
     },
     "execution_count": 104,
     "metadata": {},
     "output_type": "execute_result"
    }
   ],
   "source": [
    "df['Display Type'].value_counts()['IPS LCD']"
   ]
  },
  {
   "cell_type": "code",
   "execution_count": 105,
   "id": "dd3c91bc",
   "metadata": {},
   "outputs": [],
   "source": [
    "# Segemnt the Display Type\n",
    "def segment_display_type(display_type):\n",
    "    if pd.isnull(display_type):\n",
    "        return 'Unknown'\n",
    "    elif 'AMOLED' in display_type:\n",
    "        return 'AMOLED'\n",
    "    elif 'IPS LCD' in display_type or 'IPS' in display_type:\n",
    "        return 'IPS LCD'\n",
    "    elif 'LCD' in display_type:\n",
    "        return 'LCD'\n",
    "    elif 'OLED' in display_type:\n",
    "        return 'OLED'\n",
    "    elif 'TFT' in display_type:\n",
    "        return 'TFT'\n",
    "    elif 'E-Ink' in display_type or 'E-ink' in display_type:\n",
    "        return 'E-Ink'\n",
    "    elif 'PMOLED' in display_type:\n",
    "        return 'PMOLED'\n",
    "    elif 'STN LCD' in display_type:\n",
    "        return 'STN LCD'\n",
    "    elif 'Monochrome' in display_type:\n",
    "        return 'Monochrome'\n",
    "    elif 'Memory LCD' in display_type:\n",
    "        return 'Memory LCD'\n",
    "    elif 'Retina' in display_type:\n",
    "        return 'Retina'\n",
    "    else:\n",
    "        return 'Other'\n",
    "    \n",
    "df['Display Type'] = df['Display Type'].apply(segment_display_type)"
   ]
  },
  {
   "cell_type": "code",
   "execution_count": 106,
   "id": "fa9ed4d7",
   "metadata": {},
   "outputs": [
    {
     "data": {
      "text/plain": [
       "<AxesSubplot:>"
      ]
     },
     "execution_count": 106,
     "metadata": {},
     "output_type": "execute_result"
    },
    {
     "data": {
      "image/png": "[encoded data removed]",
      "text/plain": [
       "<Figure size 720x360 with 1 Axes>"
      ]
     },
     "metadata": {},
     "output_type": "display_data"
    }
   ],
   "source": [
    "plt.figure(figsize=(10,5))\n",
    "df['Display Type'].value_counts().plot(kind='bar')"
   ]
  },
  {
   "cell_type": "code",
   "execution_count": 116,
   "id": "a73d5e58",
   "metadata": {},
   "outputs": [
    {
     "data": {
      "image/png": "[encoded data removed]",
      "text/plain": [
       "<Figure size 432x288 with 1 Axes>"
      ]
     },
     "metadata": {},
     "output_type": "display_data"
    }
   ],
   "source": [
    "sns.histplot(x='Display Type',data=df)\n",
    "plt.xlabel('Display Type')\n",
    "plt.ylabel('Count')\n",
    "plt.title('Display Type Count')\n",
    "plt.show()"
   ]
  },
  {
   "cell_type": "code",
   "execution_count": null,
   "id": "1802b4c2",
   "metadata": {},
   "outputs": [],
   "source": []
  }
 ],
 "metadata": {
  "kernelspec": {
   "display_name": "Python 3",
   "language": "python",
   "name": "python3"
  },
  "language_info": {
   "codemirror_mode": {
    "name": "ipython",
    "version": 3
   },
   "file_extension": ".py",
   "mimetype": "text/x-python",
   "name": "python",
   "nbconvert_exporter": "python",
   "pygments_lexer": "ipython3",
   "version": "3.8.8"
  }
 },
 "nbformat": 4,
 "nbformat_minor": 5
}
